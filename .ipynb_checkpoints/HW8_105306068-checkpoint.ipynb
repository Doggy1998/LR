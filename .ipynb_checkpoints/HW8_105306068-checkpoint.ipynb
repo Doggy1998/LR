{
 "cells": [
  {
   "cell_type": "code",
   "execution_count": 1,
   "metadata": {},
   "outputs": [],
   "source": [
    "%matplotlib inline\n",
    "\n",
    "import numpy as np\n",
    "import sympy as sp\n",
    "import matplotlib.pyplot as plt"
   ]
  },
  {
   "cell_type": "code",
   "execution_count": 3,
   "metadata": {},
   "outputs": [
    {
     "data": {
      "image/png": "[encoded data removed]",
      "text/plain": [
       "<Figure size 432x288 with 1 Axes>"
      ]
     },
     "metadata": {
      "needs_background": "light"
     },
     "output_type": "display_data"
    }
   ],
   "source": [
    "c = np.array([4, 7])\n",
    "b = np.array([2, 8])\n",
    "l = np.linspace(8, -8, 500)\n",
    "X = []\n",
    "Y = []\n",
    "\n",
    "for i in l:\n",
    "    p = c + np.dot(i, b)\n",
    "    plt.scatter(p[0], p[1], s = 10, c = 'pink')\n",
    "    X.append(p[0])\n",
    "    Y.append(p[1])\n",
    "    \n",
    "P = np.array([X, Y]).T"
   ]
  },
  {
   "cell_type": "code",
   "execution_count": 9,
   "metadata": {},
   "outputs": [
    {
     "data": {
      "image/png": "[encoded data removed]",
      "text/plain": [
       "<Figure size 432x288 with 1 Axes>"
      ]
     },
     "metadata": {
      "needs_background": "light"
     },
     "output_type": "display_data"
    }
   ],
   "source": [
    "p = np.array([[2, 8],\n",
    "              [4, 1]])\n",
    "c2 = np.array([15, 6])\n",
    "X2 = []\n",
    "Y2 = []\n",
    "\n",
    "for i in range(P.shape[0]):\n",
    "    P1 = c2 + np.dot(p, P[i])\n",
    "    plt.scatter(P1[0], P1[1], s = 10, c = 'purple')\n",
    "    X2.append(P1[0])\n",
    "    Y2.append(P1[1])\n",
    "\n",
    "P2= np.array([X2, Y2]).T"
   ]
  },
  {
   "cell_type": "code",
   "execution_count": 10,
   "metadata": {},
   "outputs": [
    {
     "data": {
      "text/plain": [
       "<matplotlib.collections.PathCollection at 0x1dcd6280588>"
      ]
     },
     "execution_count": 10,
     "metadata": {},
     "output_type": "execute_result"
    },
    {
     "data": {
      "image/png": "[encoded data removed]",
      "text/plain": [
       "<Figure size 432x288 with 1 Axes>"
      ]
     },
     "metadata": {
      "needs_background": "light"
     },
     "output_type": "display_data"
    }
   ],
   "source": [
    "plt.scatter(X, Y, s = 10, c = 'pink')\n",
    "plt.scatter(X2, Y2, s = 10, c = 'purple')"
   ]
  },
  {
   "cell_type": "code",
   "execution_count": null,
   "metadata": {},
   "outputs": [],
   "source": []
  }
 ],
 "metadata": {
  "kernelspec": {
   "display_name": "Python 3",
   "language": "python",
   "name": "python3"
  },
  "language_info": {
   "codemirror_mode": {
    "name": "ipython",
    "version": 3
   },
   "file_extension": ".py",
   "mimetype": "text/x-python",
   "name": "python",
   "nbconvert_exporter": "python",
   "pygments_lexer": "ipython3",
   "version": "3.6.0"
  }
 },
 "nbformat": 4,
 "nbformat_minor": 2
}
