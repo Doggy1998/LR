{
 "cells": [
  {
   "cell_type": "code",
   "execution_count": 1,
   "metadata": {},
   "outputs": [],
   "source": [
    "import sympy as sp\n",
    "import random\n",
    "\n",
    "def shuffle_matrix(rref_m):\n",
    "    v_list = []\n",
    "    for r in range(rref_m.rows):\n",
    "        # print(rref_m.row(r))\n",
    "        v_list.append(rref_m.row(r))\n",
    "    \n",
    "    isRref = True\n",
    "    \n",
    "    while isRref:\n",
    "        for r in range(2**rref_m.rows):\n",
    "            r_int = random.randrange(2,2**rref_m.rows)\n",
    "            [a, b] = random.sample(range(rref_m.rows), k=2)\n",
    "            v_list[b] = v_list[a]*r_int + v_list[b]\n",
    "            \n",
    "        changed_m = sp.Matrix(v_list)\n",
    "        if changed_m == changed_m.rref()[0]:\n",
    "            isRref = True\n",
    "        else:\n",
    "            isRref = False\n",
    "            \n",
    "    return changed_m"
   ]
  },
  {
   "cell_type": "code",
   "execution_count": 2,
   "metadata": {},
   "outputs": [],
   "source": [
    "m = sp.Matrix([[1, 3, 0, 0, 3], [0, 0, 1, 0, 9], [0, 0, 0, 1, -4]]) "
   ]
  },
  {
   "cell_type": "code",
   "execution_count": 7,
   "metadata": {},
   "outputs": [],
   "source": [
    "not_rref = shuffle_matrix(m)"
   ]
  },
  {
   "cell_type": "code",
   "execution_count": 8,
   "metadata": {},
   "outputs": [
    {
     "data": {
      "text/latex": [
       "$\\displaystyle \\left[\\begin{matrix}15 & 45 & 2 & 90 & -297\\\\157 & 471 & 21 & 942 & -3108\\\\84 & 252 & 12 & 505 & -1660\\end{matrix}\\right]$"
      ],
      "text/plain": [
       "Matrix([\n",
       "[ 15,  45,  2,  90,  -297],\n",
       "[157, 471, 21, 942, -3108],\n",
       "[ 84, 252, 12, 505, -1660]])"
      ]
     },
     "execution_count": 8,
     "metadata": {},
     "output_type": "execute_result"
    }
   ],
   "source": [
    "not_rref "
   ]
  },
  {
   "cell_type": "code",
   "execution_count": 9,
   "metadata": {},
   "outputs": [
    {
     "data": {
      "text/plain": [
       "(Matrix([\n",
       " [1, 3, 0, 0,  3],\n",
       " [0, 0, 1, 0,  9],\n",
       " [0, 0, 0, 1, -4]]), (0, 2, 3))"
      ]
     },
     "execution_count": 9,
     "metadata": {},
     "output_type": "execute_result"
    }
   ],
   "source": [
    "not_rref.rref()"
   ]
  }
 ],
 "metadata": {
  "kernelspec": {
   "display_name": "Python 3",
   "language": "python",
   "name": "python3"
  },
  "language_info": {
   "codemirror_mode": {
    "name": "ipython",
    "version": 3
   },
   "file_extension": ".py",
   "mimetype": "text/x-python",
   "name": "python",
   "nbconvert_exporter": "python",
   "pygments_lexer": "ipython3",
   "version": "3.6.0"
  }
 },
 "nbformat": 4,
 "nbformat_minor": 2
}
