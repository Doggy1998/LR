{
 "cells": [
  {
   "cell_type": "markdown",
   "metadata": {},
   "source": [
    "### 2\n",
    "### 定義一個 RREF 的矩陣，並透過基本列運算將其變成不是 RREF 的形式。"
   ]
  },
  {
   "cell_type": "code",
   "execution_count": 1,
   "metadata": {},
   "outputs": [],
   "source": [
    "import sympy as sp\n",
    "import random\n",
    "\n",
    "def shuffle_matrix(rref_m):\n",
    "    \n",
    "    # 收集矩陣的每個 row 為一個 list\n",
    "    v_list = []\n",
    "    for r in range(rref_m.rows):\n",
    "        # print(rref_m.row(r))\n",
    "        v_list.append(rref_m.row(r))\n",
    "    \n",
    "    \n",
    "    # 假設輸入的參數 rref_m 都是 RREF\n",
    "    isRref = True\n",
    "    \n",
    "    # 當矩陣仍是 RREF，則重複執行\n",
    "    while isRref:\n",
    "        \n",
    "        # 參考矩陣的列數，進行 2 的 列數 次方次 第三種 elementary transformation\n",
    "        for r in range(2**rref_m.rows):\n",
    "            \n",
    "            # 隨機一個整數，也參考列數進行整數範圍的調整\n",
    "            r_int = random.randrange(2,2**rref_m.rows)\n",
    "            \n",
    "            # 隨機選兩個 row，進行第三種 elementary transformation\n",
    "            [a, b] = random.sample(range(rref_m.rows), k=2)\n",
    "            v_list[b] = v_list[a]*r_int + v_list[b]\n",
    "            \n",
    "        changed_m = sp.Matrix(v_list)\n",
    "        \n",
    "        if changed_m == changed_m.rref()[0]:\n",
    "            # 仍是 RREF\n",
    "            isRref = True\n",
    "        else:\n",
    "            isRref = False\n",
    "            \n",
    "    return changed_m"
   ]
  },
  {
   "cell_type": "code",
   "execution_count": 2,
   "metadata": {},
   "outputs": [],
   "source": [
    "m = sp.Matrix([[1, 3, 0, 0, 3], [0, 0, 1, 0, 9], [0, 0, 0, 1, -4]]) "
   ]
  },
  {
   "cell_type": "code",
   "execution_count": 7,
   "metadata": {},
   "outputs": [],
   "source": [
    "not_rref = shuffle_matrix(m)"
   ]
  },
  {
   "cell_type": "code",
   "execution_count": 8,
   "metadata": {},
   "outputs": [
    {
     "data": {
      "text/latex": [
       "$\\displaystyle \\left[\\begin{matrix}15 & 45 & 2 & 90 & -297\\\\157 & 471 & 21 & 942 & -3108\\\\84 & 252 & 12 & 505 & -1660\\end{matrix}\\right]$"
      ],
      "text/plain": [
       "Matrix([\n",
       "[ 15,  45,  2,  90,  -297],\n",
       "[157, 471, 21, 942, -3108],\n",
       "[ 84, 252, 12, 505, -1660]])"
      ]
     },
     "execution_count": 8,
     "metadata": {},
     "output_type": "execute_result"
    }
   ],
   "source": [
    "not_rref "
   ]
  },
  {
   "cell_type": "code",
   "execution_count": 9,
   "metadata": {},
   "outputs": [
    {
     "data": {
      "text/plain": [
       "(Matrix([\n",
       " [1, 3, 0, 0,  3],\n",
       " [0, 0, 1, 0,  9],\n",
       " [0, 0, 0, 1, -4]]), (0, 2, 3))"
      ]
     },
     "execution_count": 9,
     "metadata": {},
     "output_type": "execute_result"
    }
   ],
   "source": [
    "not_rref.rref()"
   ]
  }
 ],
 "metadata": {
  "kernelspec": {
   "display_name": "Python 3",
   "language": "python",
   "name": "python3"
  },
  "language_info": {
   "codemirror_mode": {
    "name": "ipython",
    "version": 3
   },
   "file_extension": ".py",
   "mimetype": "text/x-python",
   "name": "python",
   "nbconvert_exporter": "python",
   "pygments_lexer": "ipython3",
   "version": "3.6.0"
  }
 },
 "nbformat": 4,
 "nbformat_minor": 2
}
