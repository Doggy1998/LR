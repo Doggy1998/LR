{
 "cells": [
  {
   "cell_type": "markdown",
   "metadata": {},
   "source": [
    "### 1\n",
    "\n",
    "### 給定任意兩個 n 維行向量 x, y，n 至少為 4，檢驗 A 乘上 B 的轉置得到的矩陣會是rank1"
   ]
  },
  {
   "cell_type": "code",
   "execution_count": 1,
   "metadata": {},
   "outputs": [],
   "source": [
    "import sympy as sp"
   ]
  },
  {
   "cell_type": "code",
   "execution_count": 8,
   "metadata": {},
   "outputs": [],
   "source": [
    "a = sp.Matrix([2, 3, 6, 8])\n",
    "b = sp.Matrix([7, 8, 3, 1])"
   ]
  },
  {
   "cell_type": "code",
   "execution_count": 35,
   "metadata": {},
   "outputs": [],
   "source": [
    "def checkRank1(v1, v2):\n",
    "    \n",
    "    m1 = sp.Matrix(v1)\n",
    "    m2 = sp.Matrix(v2)\n",
    "    \n",
    "    M = m1*m2.T\n",
    "    isRank1 = True\n",
    "    \n",
    "    # check rows \n",
    "    for r in range(1, M.rows):\n",
    "        times = M.row(0)[0]/M.row(r)[0]\n",
    "        if M.row(0) == M.row(r)*times:\n",
    "            pass\n",
    "        \n",
    "        else:\n",
    "            isRank1 = False\n",
    "            print(M.row(0))\n",
    "            print(M.row(r))\n",
    "            break\n",
    "    \n",
    "    if isRank1:\n",
    "        # check columns\n",
    "        for c in range(1, M.rows):\n",
    "            times = M.col(0)[0]/M.col(c)[0]\n",
    "            if M.col(0) == M.col(c)*times:\n",
    "                pass\n",
    "            else:\n",
    "                isRank1 = False\n",
    "                print(M.row(0))\n",
    "                print(M.row(r))\n",
    "                break\n",
    "                \n",
    "        \n",
    "    if isRank1:\n",
    "        print(\"Yes, it's Rank1\")\n",
    "    else:\n",
    "        print('NOT Rank1')"
   ]
  },
  {
   "cell_type": "code",
   "execution_count": 36,
   "metadata": {},
   "outputs": [
    {
     "name": "stdout",
     "output_type": "stream",
     "text": [
      "Yes, it's Rank1\n"
     ]
    }
   ],
   "source": [
    "checkRank1(a, b)"
   ]
  }
 ],
 "metadata": {
  "kernelspec": {
   "display_name": "Python 3",
   "language": "python",
   "name": "python3"
  },
  "language_info": {
   "codemirror_mode": {
    "name": "ipython",
    "version": 3
   },
   "file_extension": ".py",
   "mimetype": "text/x-python",
   "name": "python",
   "nbconvert_exporter": "python",
   "pygments_lexer": "ipython3",
   "version": "3.6.0"
  }
 },
 "nbformat": 4,
 "nbformat_minor": 2
}
